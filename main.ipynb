{
 "cells": [
  {
   "cell_type": "code",
   "execution_count": null,
   "metadata": {},
   "outputs": [],
   "source": [
    "# Addition\n",
    "a = 5\n",
    "b = 3\n",
    "result = a + b\n",
    "print(\"Addition:\", result)\n",
    "\n",
    "# Subtraction\n",
    "a = 10\n",
    "b = 7\n",
    "result = a - b\n",
    "print(\"Subtraction:\", result)\n",
    "\n",
    "# Multiplication\n",
    "a = 4\n",
    "b = 6\n",
    "result = a * b\n",
    "print(\"Multiplication:\", result)\n",
    "\n",
    "# Division\n",
    "a = 15\n",
    "b = 3\n",
    "result = a / b\n",
    "print(\"Division:\", result)\n",
    "\n",
    "# Floor Division\n",
    "a = 15\n",
    "b = 4\n",
    "result = a // b\n",
    "print(\"Floor Division:\", result)\n",
    "\n",
    "# Modulo\n",
    "a = 15\n",
    "b = 7\n",
    "result = a % b\n",
    "print(\"Modulo:\", result)\n",
    "\n",
    "# Exponentiation\n",
    "a = 2\n",
    "b = 3\n",
    "result = a ** b\n",
    "print(\"Exponentiation:\", result)\n",
    "\n",
    "# fhwoeigjw4j"
   ]
  },
  {
   "cell_type": "markdown",
   "metadata": {},
   "source": [
    "# Arithmetic Operators in Python\n",
    "\n",
    "Python provides several arithmetic operators for performing mathematical operations. Here are the commonly used arithmetic operators:\n",
    "\n",
    "- Addition: `+`\n",
    "- Subtraction: `-`\n",
    "- Multiplication: `*`\n",
    "- Division: `/`\n",
    "- Floor Division: `//`\n",
    "- Modulo: `%`\n",
    "- Exponentiation: `**`\n",
    "\n",
    "These operators can be used with numeric values to perform addition, subtraction, multiplication, division, and other mathematical operations.\n",
    "\n",
    "Example usage:\n",
    "\n"
   ]
  }
 ],
 "metadata": {
  "language_info": {
   "name": "python"
  }
 },
 "nbformat": 4,
 "nbformat_minor": 2
}
