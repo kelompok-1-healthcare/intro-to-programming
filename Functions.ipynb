{
 "cells": [
  {
   "cell_type": "markdown",
   "metadata": {},
   "source": [
    "# Functions\n",
    "\n",
    "Function dalam Python adalah blok kode yang dibuat untuk melakukan tugas tertentu. Mereka memungkinkan Anda untuk mengorganisir kode Anda ke dalam bagian-bagian kecil yang dapat digunakan kembali, sehingga memudahkan dalam mengelola dan memperbaiki program Anda."
   ]
  },
  {
   "cell_type": "code",
   "execution_count": 19,
   "metadata": {},
   "outputs": [],
   "source": [
    "# Define the function\n",
    "def add_three(input_var):\n",
    "    output_var = input_var + 3\n",
    "    return output_var\n"
   ]
  },
  {
   "cell_type": "markdown",
   "metadata": {},
   "source": [
    "Code di atas adalah sebuah fungsi Python yang disebut add_three. Fungsi ini mengambil satu argumen yang disebut input_var, kemudian menambahkan nilai 3 ke input_var tersebut. Hasil penjumlahan disimpan dalam variabel output_var dan kemudian dikembalikan sebagai hasil dari fungsi menggunakan pernyataan return"
   ]
  },
  {
   "cell_type": "markdown",
   "metadata": {},
   "source": [
    "## How to run (or \"call\") a function"
   ]
  },
  {
   "cell_type": "code",
   "execution_count": 20,
   "metadata": {},
   "outputs": [
    {
     "name": "stdout",
     "output_type": "stream",
     "text": [
      "13\n"
     ]
    }
   ],
   "source": [
    "# Run the function with 10 as input\n",
    "new_number = add_three(10)\n",
    "\n",
    "# Check that the value is 13, as expected\n",
    "print(new_number)"
   ]
  },
  {
   "cell_type": "markdown",
   "metadata": {},
   "source": [
    "Code di atas memanggil fungsi add_three dengan argumen 10 dan menyimpan hasilnya dalam variabel new_number. Kemudian, nilai dari new_number dicetak menggunakan pernyataan print. Karena add_three(10) akan mengembalikan nilai 10 + 3 = 13, hasil pencetakan akan menjadi 13."
   ]
  },
  {
   "cell_type": "markdown",
   "metadata": {},
   "source": [
    "## Examples of more complex functions"
   ]
  },
  {
   "cell_type": "code",
   "execution_count": 21,
   "metadata": {},
   "outputs": [],
   "source": [
    "def get_pay(num_hours):\n",
    "    # Pre-tax pay, based on receiving $15/hour\n",
    "    pay_pretax = num_hours * 15\n",
    "    # After-tax pay, based on being in 12% tax bracket\n",
    "    pay_aftertax = pay_pretax * (1 - .12)\n",
    "    return pay_aftertax"
   ]
  },
  {
   "cell_type": "markdown",
   "metadata": {},
   "source": [
    "Fungsi di atas adalah `get_pay`, yang mengambil satu argumen yang disebut `num_hours`. Fungsi ini menghitung pembayaran sebelum pajak dan setelah pajak berdasarkan jumlah jam kerja yang diberikan.\n",
    "\n",
    "1. `pay_pretax` dihitung dengan mengalikan jumlah jam (`num_hours`) dengan tarif upah per jam ($15).\n",
    "2. `pay_aftertax` dihitung dengan mengalikan `pay_pretax` dengan nilai (1 - 0.12), yang mewakili 1 minus tarif pajak (dalam bentuk desimal).\n",
    "\n",
    "Setelah itu, fungsi mengembalikan nilai `pay_aftertax`. Jadi, jika Anda memberikan jumlah jam kerja, fungsi akan mengembalikan jumlah pembayaran setelah pajak dari jam kerja tersebut."
   ]
  },
  {
   "cell_type": "code",
   "execution_count": 22,
   "metadata": {},
   "outputs": [
    {
     "name": "stdout",
     "output_type": "stream",
     "text": [
      "528.0\n"
     ]
    }
   ],
   "source": [
    "# Calculate pay based on working 40 hours\n",
    "pay_fulltime = get_pay(40)\n",
    "print(pay_fulltime)"
   ]
  },
  {
   "cell_type": "markdown",
   "metadata": {},
   "source": [
    "Code di atas menggunakan fungsi `get_pay` untuk menghitung pembayaran setelah pajak bagi seseorang yang bekerja 40 jam. Hasil perhitungan tersebut disimpan dalam variabel `pay_fulltime`, dan kemudian nilai variabel tersebut dicetak menggunakan pernyataan `print`. Untuk memahami lebih lanjut, mari kita lihat proses perhitungannya:\n",
    "1. Jumlah jam kerja adalah 40.\n",
    "2. Pembayaran sebelum pajak dihitung dengan mengalikan jumlah jam (40) dengan tarif upah per jam ($15), sehingga `pay_pretax = 40 * 15 = 600`.\n",
    "3. Pembayaran setelah pajak dihitung dengan mengalikan `pay_pretax` dengan nilai (1 - 0.12), yang mewakili 1 minus tarif pajak (12% atau 0.12), sehingga `pay_aftertax = 600 * (1 - 0.12) = 528`.\n",
    "\n",
    "Jadi, hasil dari `print(pay_fulltime)` akan mencetak nilai 528, yang merupakan pembayaran setelah pajak bagi seseorang yang bekerja 40 jam dengan tarif upah per jam $15 dan tarif pajak sebesar 12%."
   ]
  },
  {
   "cell_type": "code",
   "execution_count": 23,
   "metadata": {},
   "outputs": [
    {
     "name": "stdout",
     "output_type": "stream",
     "text": [
      "422.4\n"
     ]
    }
   ],
   "source": [
    "pay_parttime = get_pay(32)\n",
    "print(pay_parttime)"
   ]
  },
  {
   "cell_type": "markdown",
   "metadata": {},
   "source": [
    "Pembayaran setelah pajak untuk seseorang yang bekerja paruh waktu selama 32 jam menggunakan fungsi `get_pay`.\n",
    "\n",
    "1. Jumlah jam kerja adalah 32.\n",
    "2. Pembayaran sebelum pajak dihitung dengan mengalikan jumlah jam (32) dengan tarif upah per jam ($15), sehingga `pay_pretax = 32 * 15 = 480`.\n",
    "3. Pembayaran setelah pajak dihitung dengan mengalikan `pay_pretax` dengan nilai (1 - 0.12), yang mewakili 1 minus tarif pajak (12% atau 0.12), sehingga `pay_aftertax = 480 * (1 - 0.12) = 422.40`.\n",
    "\n",
    "Jadi, hasil dari `print(pay_parttime)` akan mencetak nilai 422.40, yang merupakan pembayaran setelah pajak bagi seseorang yang bekerja paruh waktu selama 32 jam dengan tarif upah per jam $15 dan tarif pajak sebesar 12%."
   ]
  },
  {
   "cell_type": "markdown",
   "metadata": {},
   "source": [
    "## Variable \"scope\""
   ]
  },
  {
   "cell_type": "code",
   "execution_count": 24,
   "metadata": {},
   "outputs": [
    {
     "ename": "NameError",
     "evalue": "name 'pay_aftertax' is not defined",
     "output_type": "error",
     "traceback": [
      "\u001b[1;31m---------------------------------------------------------------------------\u001b[0m",
      "\u001b[1;31mNameError\u001b[0m                                 Traceback (most recent call last)",
      "Cell \u001b[1;32mIn[24], line 1\u001b[0m\n\u001b[1;32m----> 1\u001b[0m \u001b[38;5;28mprint\u001b[39m(\u001b[43mpay_aftertax\u001b[49m)\n",
      "\u001b[1;31mNameError\u001b[0m: name 'pay_aftertax' is not defined"
     ]
    }
   ],
   "source": [
    "print(pay_aftertax)"
   ]
  },
  {
   "cell_type": "markdown",
   "metadata": {},
   "source": [
    "\n",
    "Error tersebut terjadi karena variabel `pay_aftertax` hanya didefinisikan di dalam lingkup fungsi `get_pay()`. Variabel tersebut tidak ada di luar fungsi tersebut atau di luar konteks di mana fungsi tersebut dipanggil."
   ]
  },
  {
   "cell_type": "markdown",
   "metadata": {},
   "source": [
    "## Functions with multiple arguments"
   ]
  },
  {
   "cell_type": "code",
   "execution_count": null,
   "metadata": {},
   "outputs": [],
   "source": [
    "def get_pay_with_more_inputs(num_hours, hourly_wage, tax_bracket):\n",
    "    # Pre-tax pay\n",
    "    pay_pretax = num_hours * hourly_wage\n",
    "    # After-tax pay\n",
    "    pay_aftertax = pay_pretax * (1 - tax_bracket)\n",
    "    return pay_aftertax"
   ]
  },
  {
   "cell_type": "markdown",
   "metadata": {},
   "source": [
    "Fungsi di atas disebut `get_pay_with_more_inputs`, yang mengambil tiga argumen: `num_hours` (jumlah jam kerja), `hourly_wage` (tarif upah per jam), dan `tax_bracket` (tarif pajak dalam bentuk desimal). Fungsi ini menghitung pembayaran sebelum pajak dan setelah pajak berdasarkan input yang diberikan.\n",
    "\n",
    "1. `pay_pretax` dihitung dengan mengalikan jumlah jam (`num_hours`) dengan tarif upah per jam (`hourly_wage`).\n",
    "2. `pay_aftertax` dihitung dengan mengalikan `pay_pretax` dengan nilai (1 - `tax_bracket`), yang mewakili 1 dikurangi tarif pajak (dalam bentuk desimal).\n",
    "\n",
    "Setelah itu, fungsi mengembalikan nilai `pay_aftertax`. Jadi, jika Anda memberikan jumlah jam kerja, tarif upah per jam, dan tarif pajak, fungsi akan mengembalikan jumlah pembayaran setelah pajak dari jam kerja tersebut."
   ]
  },
  {
   "cell_type": "code",
   "execution_count": null,
   "metadata": {},
   "outputs": [
    {
     "name": "stdout",
     "output_type": "stream",
     "text": [
      "748.8000000000001\n"
     ]
    }
   ],
   "source": [
    "higher_pay_aftertax = get_pay_with_more_inputs(40, 24, .22)\n",
    "print(higher_pay_aftertax)"
   ]
  },
  {
   "cell_type": "markdown",
   "metadata": {},
   "source": [
    "Dalam pemanggilan fungsi `get_pay_with_more_inputs(40, 24, .22)`, kita memberikan tiga argumen:\n",
    "1. `num_hours` = 40 (jumlah jam kerja).\n",
    "2. `hourly_wage` = 24 (tarif upah per jam).\n",
    "3. `tax_bracket` = 0.22 (tarif pajak dalam bentuk desimal, yang mewakili 22%).\n",
    "\n",
    "Fungsi tersebut kemudian menghitung pembayaran setelah pajak berdasarkan argumen yang diberikan.\n",
    "1. Pembayaran sebelum pajak dihitung dengan mengalikan jumlah jam (40) dengan tarif upah per jam (24), sehingga `pay_pretax = 40 * 24 = 960`.\n",
    "2. Pembayaran setelah pajak dihitung dengan mengalikan `pay_pretax` dengan nilai (1 - 0.22), yang mewakili 1 dikurangi tarif pajak (22% dalam bentuk desimal), sehingga `pay_aftertax = 960 * (1 - 0.22) = 748.80`.\n",
    "\n",
    "Jadi, `higher_pay_aftertax` akan memiliki nilai 748.80, yang merupakan pembayaran setelah pajak untuk seseorang yang bekerja 40 jam dengan tarif upah per jam $24 dan tarif pajak sebesar 22%."
   ]
  },
  {
   "cell_type": "code",
   "execution_count": null,
   "metadata": {},
   "outputs": [
    {
     "name": "stdout",
     "output_type": "stream",
     "text": [
      "528.0\n"
     ]
    }
   ],
   "source": [
    "same_pay_fulltime = get_pay_with_more_inputs(40, 15, .12)\n",
    "print(same_pay_fulltime)"
   ]
  },
  {
   "cell_type": "markdown",
   "metadata": {},
   "source": [
    "Dalam pemanggilan fungsi `get_pay_with_more_inputs(40, 15, .12)`, kita memberikan tiga argumen:\n",
    "\n",
    "1. `num_hours` = 40 (jumlah jam kerja).\n",
    "2. `hourly_wage` = 15 (tarif upah per jam).\n",
    "3. `tax_bracket` = 0.12 (tarif pajak dalam bentuk desimal, yang mewakili 12%).\n",
    "\n",
    "Fungsi tersebut kemudian menghitung pembayaran setelah pajak berdasarkan argumen yang diberikan.\n",
    "\n",
    "1. Pembayaran sebelum pajak dihitung dengan mengalikan jumlah jam (40) dengan tarif upah per jam (15), sehingga `pay_pretax = 40 * 15 = 600`.\n",
    "2. Pembayaran setelah pajak dihitung dengan mengalikan `pay_pretax` dengan nilai (1 - 0.12), yang mewakili 1 dikurangi tarif pajak (12% dalam bentuk desimal), sehingga `pay_aftertax = 600 * (1 - 0.12) = 528`.\n",
    "\n",
    "Jadi, `same_pay_fulltime` akan memiliki nilai 528, yang merupakan pembayaran setelah pajak untuk seseorang yang bekerja 40 jam dengan tarif upah per jam $15 dan tarif pajak sebesar 12%."
   ]
  },
  {
   "cell_type": "markdown",
   "metadata": {},
   "source": [
    "## Functions with no arguments"
   ]
  },
  {
   "cell_type": "code",
   "execution_count": null,
   "metadata": {},
   "outputs": [
    {
     "name": "stdout",
     "output_type": "stream",
     "text": [
      "Hello, you!\n",
      "Good morning!\n"
     ]
    }
   ],
   "source": [
    "# Define the function with no arguments and with no return\n",
    "def print_hello():\n",
    "    print(\"Hello, you!\")\n",
    "    print(\"Good morning!\")\n",
    "    \n",
    "# Call the function\n",
    "print_hello()"
   ]
  },
  {
   "cell_type": "markdown",
   "metadata": {},
   "source": [
    "Fungsi di atas, `print_hello`, tidak memiliki argumen dan tidak mengembalikan nilai apapun. Ini hanya mencetak dua pesan ke layar.\n",
    "\n",
    "1. \"Hello, you!\"\n",
    "2. \"Good morning!\"\n",
    "\n",
    "Kemudian, fungsi tersebut dipanggil dengan menggunakan `print_hello()`, yang menyebabkan kedua pesan tersebut dicetak ke layar."
   ]
  }
 ],
 "metadata": {
  "kernelspec": {
   "display_name": "Python 3",
   "language": "python",
   "name": "python3"
  },
  "language_info": {
   "codemirror_mode": {
    "name": "ipython",
    "version": 3
   },
   "file_extension": ".py",
   "mimetype": "text/x-python",
   "name": "python",
   "nbconvert_exporter": "python",
   "pygments_lexer": "ipython3",
   "version": "3.12.2"
  }
 },
 "nbformat": 4,
 "nbformat_minor": 2
}
