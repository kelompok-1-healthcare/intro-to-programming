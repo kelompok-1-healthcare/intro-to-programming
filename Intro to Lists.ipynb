{
 "cells": [
  {
   "cell_type": "markdown",
   "metadata": {},
   "source": [
    "# Intro to Lists\n",
    "\n",
    "List adalah kumpulan elemen yang disusun secara terurut dan dapat diubah (mutable). Setiap elemen dalam list memiliki posisi yang ditentukan oleh indeks numerik, dimulai dari 0."
   ]
  },
  {
   "cell_type": "code",
   "execution_count": 127,
   "metadata": {},
   "outputs": [
    {
     "name": "stdout",
     "output_type": "stream",
     "text": [
      "<class 'str'>\n",
      "pink primrose,hard-leaved pocket orchid,canterbury bells,sweet pea,english marigold,tiger lily,moon orchid,bird of paradise,monkshood,globe thistle\n"
     ]
    }
   ],
   "source": [
    "flowers = \"pink primrose,hard-leaved pocket orchid,canterbury bells,sweet pea,english marigold,tiger lily,moon orchid,bird of paradise,monkshood,globe thistle\"\n",
    "\n",
    "print(type(flowers))\n",
    "print(flowers)"
   ]
  },
  {
   "cell_type": "markdown",
   "metadata": {},
   "source": [
    "Code di atas ini adalah contoh dari penggunaan variabel `flowers` yang diinisialisasi sebagai string panjang yang berisi nama-nama bunga yang dipisahkan oleh koma.\n",
    "- `flowers` adalah sebuah variabel yang berisi string panjang yang terdiri dari nama-nama bunga yang dipisahkan oleh koma.\n",
    "- `print(type(flowers))` mencetak tipe data dari variabel `flowers`. Di sini, variabel `flowers` adalah sebuah string.\n",
    "- `print(flowers)` mencetak isi dari variabel `flowers`, yang merupakan daftar nama-nama bunga yang dipisahkan oleh koma."
   ]
  },
  {
   "cell_type": "code",
   "execution_count": 128,
   "metadata": {},
   "outputs": [
    {
     "name": "stdout",
     "output_type": "stream",
     "text": [
      "<class 'list'>\n",
      "['pink primrose', 'hard-leaved pocket orchid', 'canterbury bells', 'sweet pea', 'english marigold', 'tiger lily', 'moon orchid', 'bird of paradise', 'monkshood', 'globe thistle']\n"
     ]
    }
   ],
   "source": [
    "flowers_list = [\"pink primrose\", \"hard-leaved pocket orchid\", \"canterbury bells\", \"sweet pea\", \"english marigold\", \"tiger lily\", \"moon orchid\", \"bird of paradise\", \"monkshood\", \"globe thistle\"]\n",
    "\n",
    "print(type(flowers_list))\n",
    "print(flowers_list)"
   ]
  },
  {
   "cell_type": "markdown",
   "metadata": {},
   "source": [
    "Code di atas ini menginisialisasi variabel `flowers_list` sebagai sebuah list yang berisi nama-nama bunga. Setiap nama bunga disimpan sebagai string dalam list tersebut.\n",
    "- `flowers_list` adalah sebuah variabel yang berisi list yang berisi nama-nama bunga.\n",
    "- `print(type(flowers_list))` mencetak tipe data dari variabel `flowers_list`. Di sini, variabel `flowers_list` adalah sebuah list.\n",
    "- `print(flowers_list)` mencetak isi dari variabel `flowers_list`, yang merupakan daftar nama-nama bunga. Setiap nama bunga disimpan sebagai elemen terpisah dalam list tersebut."
   ]
  },
  {
   "cell_type": "markdown",
   "metadata": {},
   "source": [
    "# Length\n",
    "Kita dapat menghitung jumlah entri dalam daftar mana pun dengan len(), yang merupakan kependekan dari \"length\" yang artinya panjang. Anda hanya perlu mencantumkan nama daftar di dalam tanda kurung."
   ]
  },
  {
   "cell_type": "code",
   "execution_count": 129,
   "metadata": {},
   "outputs": [
    {
     "name": "stdout",
     "output_type": "stream",
     "text": [
      "10\n"
     ]
    }
   ],
   "source": [
    "# The list has ten entries\n",
    "print(len(flowers_list))"
   ]
  },
  {
   "cell_type": "markdown",
   "metadata": {},
   "source": [
    "Perintah len(flowers_list) digunakan untuk menghitung jumlah elemen dalam list flowers_list. Ini menunjukkan bahwa ada 10 nama bunga yang terdaftar dalam list flowers_list."
   ]
  },
  {
   "cell_type": "code",
   "execution_count": 130,
   "metadata": {},
   "outputs": [
    {
     "name": "stdout",
     "output_type": "stream",
     "text": [
      "First entry: pink primrose\n",
      "Second entry: hard-leaved pocket orchid\n",
      "Last entry: globe thistle\n"
     ]
    }
   ],
   "source": [
    "print(\"First entry:\", flowers_list[0])\n",
    "print(\"Second entry:\", flowers_list[1])\n",
    "\n",
    "# The list has length ten, so we refer to final entry with 9\n",
    "print(\"Last entry:\", flowers_list[9])"
   ]
  },
  {
   "cell_type": "markdown",
   "metadata": {},
   "source": [
    "Code di atas ini mengakses elemen-elemen tertentu dalam list `flowers_list` dan mencetaknya:\n",
    "- `flowers_list[0]` mengakses elemen pertama dalam list `flowers_list` (indeks 0), yang merupakan \"pink primrose\".\n",
    "- `flowers_list[1]` mengakses elemen kedua dalam list `flowers_list` (indeks 1), yang merupakan \"hard-leaved pocket orchid\".\n",
    "- `flowers_list[9]` mengakses elemen terakhir dalam list `flowers_list` (indeks 9), karena indeks dimulai dari 0, sehingga elemen terakhir memiliki indeks 9. Ini adalah \"globe thistle\"."
   ]
  },
  {
   "cell_type": "markdown",
   "metadata": {},
   "source": [
    "## Slicing\n",
    "\n",
    "Anda juga dapat menarik segmen List (misalnya, tiga entri pertama atau dua entri terakhir). Ini disebut Slicing. Contohnya:\n",
    "- untuk menarik entri x pertama, Anda menggunakan [:x], dan\n",
    "- untuk menarik entri y terakhir, Anda menggunakan [-y:]."
   ]
  },
  {
   "cell_type": "code",
   "execution_count": 131,
   "metadata": {},
   "outputs": [
    {
     "name": "stdout",
     "output_type": "stream",
     "text": [
      "First three entries: ['pink primrose', 'hard-leaved pocket orchid', 'canterbury bells']\n",
      "Final two entries: ['monkshood', 'globe thistle']\n"
     ]
    }
   ],
   "source": [
    "print(\"First three entries:\", flowers_list[:3])\n",
    "print(\"Final two entries:\", flowers_list[-2:])"
   ]
  },
  {
   "cell_type": "markdown",
   "metadata": {},
   "source": [
    "Code di atas ini mencetak subset tertentu dari list `flowers_list`:\n",
    "- `flowers_list[:3]` menghasilkan subset dari list `flowers_list` mulai dari indeks 0 (inklusif) hingga indeks 3 (eksklusif), sehingga mencakup tiga elemen pertama. Ini akan mencetak tiga elemen pertama dari list tersebut: [\"pink primrose\", \"hard-leaved pocket orchid\", \"canterbury bells\"].\n",
    "- `flowers_list[-2:]` menghasilkan subset dari list `flowers_list` mulai dari dua elemen terakhir (indeks -2) hingga elemen terakhir (indeks -1) secara inklusif. Ini akan mencetak dua elemen terakhir dari list tersebut: [\"monkshood\", \"globe thistle\"]."
   ]
  },
  {
   "cell_type": "markdown",
   "metadata": {},
   "source": [
    "## Removing items\n",
    "\n",
    "Hapus item dari daftar dengan .remove(), dan masukkan item yang ingin Anda hapus dalam tanda kurung."
   ]
  },
  {
   "cell_type": "code",
   "execution_count": 132,
   "metadata": {},
   "outputs": [
    {
     "name": "stdout",
     "output_type": "stream",
     "text": [
      "['pink primrose', 'hard-leaved pocket orchid', 'canterbury bells', 'sweet pea', 'english marigold', 'tiger lily', 'moon orchid', 'bird of paradise', 'monkshood']\n"
     ]
    }
   ],
   "source": [
    "flowers_list.remove(\"globe thistle\")\n",
    "print(flowers_list)"
   ]
  },
  {
   "cell_type": "markdown",
   "metadata": {},
   "source": [
    "Code flowers_list.remove(\"globe thistle\") menghapus elemen \"globe thistle\" dari list flowers_list. Setelah perintah ini dijalankan, elemen tersebut tidak akan ada lagi dalam list."
   ]
  },
  {
   "cell_type": "markdown",
   "metadata": {},
   "source": [
    "## Adding items \n",
    "\n",
    "Tambahkan item ke daftar dengan .append(), dan masukkan item yang ingin Anda tambahkan dalam tanda kurung.\n"
   ]
  },
  {
   "cell_type": "code",
   "execution_count": 133,
   "metadata": {},
   "outputs": [
    {
     "name": "stdout",
     "output_type": "stream",
     "text": [
      "['pink primrose', 'hard-leaved pocket orchid', 'canterbury bells', 'sweet pea', 'english marigold', 'tiger lily', 'moon orchid', 'bird of paradise', 'monkshood', 'snapdragon']\n"
     ]
    }
   ],
   "source": [
    "flowers_list.append(\"snapdragon\")\n",
    "print(flowers_list)"
   ]
  },
  {
   "cell_type": "markdown",
   "metadata": {},
   "source": [
    "Code flowers_list.append(\"snapdragon\") menambahkan elemen baru dengan nilai \"snapdragon\" ke dalam list flowers_list"
   ]
  },
  {
   "cell_type": "markdown",
   "metadata": {},
   "source": [
    "## Lists are not just for strings\n",
    "\n",
    "Sejauh ini, kami hanya bekerja dengan daftar di mana setiap item dalam daftar adalah string. Namun daftar dapat memiliki item dengan tipe data apa pun, termasuk boolean, integer, dan float.\n",
    "\n",
    "Sebagai contoh, perhatikan penjualan buku hardcover pada minggu pertama bulan April 2000 di toko retail."
   ]
  },
  {
   "cell_type": "code",
   "execution_count": 134,
   "metadata": {},
   "outputs": [],
   "source": [
    "hardcover_sales = [139, 128, 172, 139, 191, 168, 170]"
   ]
  },
  {
   "cell_type": "markdown",
   "metadata": {},
   "source": [
    "Code di atas mendefinisikan sebuah list yang disebut hardcover_sales, yang berisi jumlah penjualan buku hardcover selama seminggu tertentu di toko retail. Setiap elemen dalam list ini mewakili jumlah buku hardcover yang terjual pada hari tertentu dalam urutan: Senin hingga Minggu."
   ]
  },
  {
   "cell_type": "code",
   "execution_count": 135,
   "metadata": {},
   "outputs": [
    {
     "name": "stdout",
     "output_type": "stream",
     "text": [
      "Length of the list: 7\n",
      "Entry at index 2: 172\n"
     ]
    }
   ],
   "source": [
    "print(\"Length of the list:\", len(hardcover_sales))\n",
    "print(\"Entry at index 2:\", hardcover_sales[2])"
   ]
  },
  {
   "cell_type": "markdown",
   "metadata": {},
   "source": [
    "Kode di atas ini mencetak panjang (jumlah elemen) dari list `hardcover_sales` dan mencetak elemen yang terletak pada indeks ke-2 dari list tersebut:\n",
    "- `len(hardcover_sales)` mengembalikan jumlah elemen dalam list `hardcover_sales`, yang dalam kasus ini adalah jumlah penjualan selama seminggu, yaitu 7.\n",
    "- `hardcover_sales[2]` mengakses elemen pada indeks ke-2 dalam list `hardcover_sales`, yang mewakili penjualan buku hardcover pada hari ketiga (indeks dimulai dari 0), yang nilainya adalah 172."
   ]
  },
  {
   "cell_type": "code",
   "execution_count": 136,
   "metadata": {},
   "outputs": [
    {
     "name": "stdout",
     "output_type": "stream",
     "text": [
      "Minimum: 128\n",
      "Maximum: 191\n"
     ]
    }
   ],
   "source": [
    "print(\"Minimum:\", min(hardcover_sales))\n",
    "print(\"Maximum:\", max(hardcover_sales))"
   ]
  },
  {
   "cell_type": "markdown",
   "metadata": {},
   "source": [
    "Kode di atas ini mencetak nilai minimum dan maksimum dari list `hardcover_sales`:\n",
    "- `min(hardcover_sales)` mengembalikan nilai minimum dari list `hardcover_sales`, yaitu jumlah penjualan buku hardcover terendah dalam seminggu.\n",
    "- `max(hardcover_sales)` mengembalikan nilai maksimum dari list `hardcover_sales`, yaitu jumlah penjualan buku hardcover tertinggi dalam seminggu.\n",
    "\n",
    "Maka nilai minimum penjualan buku hardcover dalam seminggu adalah 128, sedangkan nilai maksimumnya adalah 191."
   ]
  },
  {
   "cell_type": "code",
   "execution_count": 137,
   "metadata": {},
   "outputs": [
    {
     "name": "stdout",
     "output_type": "stream",
     "text": [
      "Total books sold in one week: 1107\n"
     ]
    }
   ],
   "source": [
    "print(\"Total books sold in one week:\", sum(hardcover_sales))"
   ]
  },
  {
   "cell_type": "markdown",
   "metadata": {},
   "source": [
    "Perintah `sum(hardcover_sales)` menghitung total penjualan buku hardcover selama satu minggu dengan menjumlahkan semua elemen dalam list `hardcover_sales`. Maka total buku yang terjual dalam satu minggu adalah 1107 buku hardcover."
   ]
  },
  {
   "cell_type": "code",
   "execution_count": 138,
   "metadata": {},
   "outputs": [
    {
     "name": "stdout",
     "output_type": "stream",
     "text": [
      "Average books sold in first five days: 153.8\n"
     ]
    }
   ],
   "source": [
    "print(\"Average books sold in first five days:\", sum(hardcover_sales[:5])/5)"
   ]
  },
  {
   "cell_type": "markdown",
   "metadata": {},
   "source": [
    "Perintah di bawah ini menghitung rata-rata penjualan buku hardcover selama lima hari pertama (Senin hingga Jumat) dalam seminggu:\n",
    "- `hardcover_sales[:5]` menghasilkan subset dari list `hardcover_sales` yang berisi jumlah penjualan buku hardcover pada lima hari pertama dalam seminggu.\n",
    "- `sum(hardcover_sales[:5])` menghitung total penjualan buku hardcover selama lima hari pertama.\n",
    "- Pembagian hasil jumlah penjualan dengan 5 menghitung rata-rata penjualan buku hardcover selama lima hari pertama.\n",
    "Maka rata-rata penjualan buku hardcover selama lima hari pertama dalam seminggu adalah 153.8 buku."
   ]
  }
 ],
 "metadata": {
  "kernelspec": {
   "display_name": "Python 3",
   "language": "python",
   "name": "python3"
  },
  "language_info": {
   "codemirror_mode": {
    "name": "ipython",
    "version": 3
   },
   "file_extension": ".py",
   "mimetype": "text/x-python",
   "name": "python",
   "nbconvert_exporter": "python",
   "pygments_lexer": "ipython3",
   "version": "3.12.2"
  }
 },
 "nbformat": 4,
 "nbformat_minor": 2
}
