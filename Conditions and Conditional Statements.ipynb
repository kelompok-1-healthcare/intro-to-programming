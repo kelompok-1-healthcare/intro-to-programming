{
 "cells": [
  {
   "cell_type": "markdown",
   "id": "706e2b11-72d8-4d41-9e81-a7297c24f53c",
   "metadata": {},
   "source": [
    "Conditions and Conditional Statements\n",
    "\n",
    "Dalam Python, \"Conditions\" mengacu pada ekspresi atau pernyataan yang mengembalikan nilai kebenaran (True atau False), sementara \"Conditional Statements\" mengacu pada struktur pengendalian aliran yang memungkinkan eksekusi blok kode tertentu berdasarkan hasil evaluasi kondisi."
   ]
  },
  {
   "cell_type": "markdown",
   "id": "5a4821b0-a4f1-4c6f-b930-26aa2b82e64e",
   "metadata": {},
   "source": [
    "Conditions\n",
    "1. Simple Comparison :"
   ]
  },
  {
   "cell_type": "code",
   "execution_count": 1,
   "id": "c717cdb4-2a4a-42b0-8355-71d3844a6603",
   "metadata": {},
   "outputs": [
    {
     "name": "stdout",
     "output_type": "stream",
     "text": [
      "True\n"
     ]
    }
   ],
   "source": [
    "x = 10\n",
    "condition = x > 5\n",
    "print(condition)  # Output: True"
   ]
  },
  {
   "cell_type": "markdown",
   "id": "89fe4bd3-23e8-47fa-b162-475364c0f0cb",
   "metadata": {},
   "source": [
    "\"x = 10\" merupakan code dimana x merupakan variabel yang diberi nilai 10, kemudian \"condition = x > 5\" dimana ekspresi \"x > 5\" akan dievaluasi apakah nilai variabel \"x\" lebih dari \"5\", lalu \"print(condition)\" berarti nilai dari ekspresi \"condition akan dicetak yang menghasilkan output \"True\" karena nilai variabel \"x\" adalah \"10\" yang dimana sesuai dengan condition yaitu lebih dari \"5\""
   ]
  },
  {
   "cell_type": "markdown",
   "id": "faa93cd0-5680-4b01-a313-b7794595cb04",
   "metadata": {},
   "source": [
    "2. Logical Operations :"
   ]
  },
  {
   "cell_type": "code",
   "execution_count": 2,
   "id": "78e42907-6961-4720-b3ef-4b53ffe25c80",
   "metadata": {},
   "outputs": [
    {
     "name": "stdout",
     "output_type": "stream",
     "text": [
      "True\n"
     ]
    }
   ],
   "source": [
    "y = 7\n",
    "condition = y < 5 or y == 7\n",
    "print(condition)  # Output: True"
   ]
  },
  {
   "cell_type": "markdown",
   "id": "a4a7c9e4-b732-4a8d-a935-e6e14eec3fce",
   "metadata": {},
   "source": [
    "\"y = 7\" merupakan code dimana Variabel \"y\" diberi nilai \"7\". Kemudian \"condition = y < 5 or y == 7\" merupakan ekspresi logika yang dievaluasi, pertama \"y < 5\" dinilai \"False\" karena 7 tidak kurang dari 5, kedua \"y == 7\" dinilai \"True\" karena nilai variabel \"y\" sama dengan \"7\". Karena operator \"or\" mengembalikan \"True\" jika salah satu operandnya \"True\", maka hasil dari ekspresi keseluruhan adalah \"True\", lalu \"print(condition)\" nilai dari ekspresi condition dicetak dalam hal ini, hasilnya adalah \"True\"."
   ]
  },
  {
   "cell_type": "code",
   "execution_count": 3,
   "id": "dda2e739-600e-43ce-a447-411fdfbb4e35",
   "metadata": {},
   "outputs": [
    {
     "name": "stdout",
     "output_type": "stream",
     "text": [
      "True\n"
     ]
    }
   ],
   "source": [
    "y = 7\n",
    "condition = y >= 5 and y != 6\n",
    "print(condition)  # Output: True"
   ]
  },
  {
   "cell_type": "markdown",
   "id": "a499aeca-0730-4a5e-9c33-f72d924678d8",
   "metadata": {},
   "source": [
    "\"y = 7\" merupakan code dimana variabel \"y\" diberi nilai \"7\". Kemudian \"condition = y >= 5 and y != 6\" merupakan ekspresi logika yang dievaluasi, pertama \"y >= 5\" dinilai \"True karena \"7\" lebih besar dari atau sama dengan \"5\", kedua \"y != 6\" dinilai \"True\" karena \"7\" tidak sama dengan \"6\". Karena operator \"and\" mengembalikan \"True\" hanya jika kedua operandnya \"True\", maka hasil dari ekspresi keseluruhan adalah \"True\".\n",
    "\"print(condition)\" nilai dari ekspresi condition dicetak, dalam hal ini, hasilnya adalah \"True\"."
   ]
  },
  {
   "cell_type": "code",
   "execution_count": 4,
   "id": "afacb127-4a86-47b2-bf65-11efccd34849",
   "metadata": {
    "scrolled": true
   },
   "outputs": [
    {
     "name": "stdout",
     "output_type": "stream",
     "text": [
      "True\n"
     ]
    }
   ],
   "source": [
    "y = 7\n",
    "condition = not (y < 5)\n",
    "print(condition)  # Output: True"
   ]
  },
  {
   "cell_type": "markdown",
   "id": "bd37dddd-a2f4-45be-b96e-3311f862bd51",
   "metadata": {},
   "source": [
    "\"y = 7\" merupakan code dimana variabel \"y\" diberi nilai \"7\". Kemudian \"condition = not (y < 5)\", ekspresi \"y < 5\" dievaluasi terlebih dahulu, karena \"7\" tidak kurang dari \"5\", maka ekspresi ini bernilai \"False\". Operator \"not\" kemudian membalikkan nilai \"False\" menjadi \"True\". Lalu \"print(condition)\" nilai dari ekspresi condition dicetak. Dalam hal ini, hasilnya adalah \"True\"."
   ]
  },
  {
   "cell_type": "markdown",
   "id": "bfa4953a-1d2c-451c-aae2-727572533fbb",
   "metadata": {},
   "source": [
    "Conditional Statements\n",
    "1. if Statement :"
   ]
  },
  {
   "cell_type": "code",
   "execution_count": 5,
   "id": "5457c64b-5148-450f-99c8-22f02c867700",
   "metadata": {},
   "outputs": [
    {
     "name": "stdout",
     "output_type": "stream",
     "text": [
      "x lebih besar dari 5\n"
     ]
    }
   ],
   "source": [
    "x = 10\n",
    "if x > 5:\n",
    "    print(\"x lebih besar dari 5\")"
   ]
  },
  {
   "cell_type": "markdown",
   "id": "4e91283b-e4b4-49e4-a12f-d99f1a8c5dea",
   "metadata": {},
   "source": [
    "Code diatas menggunakan pernyataan \"if\" untuk mengevaluasi apakah nilai dari variabel \"x\" lebih besar dari \"5\", dan mencetak pesan jika kondisinya terpenuhi.\n",
    "\"x = 10\" merupakan code dimana variabel \"x\" diberi nilai \"10\". Kemudian \"if x > 5:\",  pernyataan \"if\" digunakan untuk memeriksa apakah nilai \"x\" lebih besar dari \"5\", jika kondisi ini terpenuhi (True), maka blok kode di bawahnya akan dieksekusi. \"print(\"x lebih besar dari 5\")\", pernyataan ini adalah bagian dari blok kode yang terkait dengan pernyataan \"if\". Karena nilai \"x\" adalah \"10\" (lebih besar dari 5), maka pesan \"x lebih besar dari 5\" akan dicetak."
   ]
  },
  {
   "cell_type": "markdown",
   "id": "502f9cdc-4311-4484-8709-e0961321fb00",
   "metadata": {},
   "source": [
    "2. if-else Statement :"
   ]
  },
  {
   "cell_type": "code",
   "execution_count": 6,
   "id": "319cfcd4-3716-43a5-b10e-7d2ccaad28de",
   "metadata": {},
   "outputs": [
    {
     "name": "stdout",
     "output_type": "stream",
     "text": [
      "x tidak lebih besar dari 5\n"
     ]
    }
   ],
   "source": [
    "x = 3\n",
    "if x > 5:\n",
    "    print(\"x lebih besar dari 5\")\n",
    "else:\n",
    "    print(\"x tidak lebih besar dari 5\")"
   ]
  },
  {
   "cell_type": "markdown",
   "id": "d7c8ed69-fdfe-4f2b-ad72-e006fda5b534",
   "metadata": {},
   "source": [
    "Code diatas menggunakan pernyataan \"if-else\" untuk mengevaluasi apakah nilai dari variabel \"x\" lebih besar dari \"5\", dan mencetak pesan sesuai dengan hasil evaluasi kondisi. \n",
    "\"x = 3\" merupakan code dimana variabel \"x\" diberi nilai \"3\". Kemudian \"if x > 5:\", pernyataan \"if\" digunakan untuk memeriksa apakah nilai \"x\" lebih besar dari \"5\". Jika kondisi ini terpenuhi (True), maka blok kode di bawahnya akan dieksekusi. Namun, dalam hal ini, karena nilai \"x\" tidak lebih besar dari \"5\", kondisi tidak terpenuhi.\n",
    "Lalu \"print(\"x tidak lebih besar dari 5\")\" Pernyataan \"print\" di dalam blok \"else\" akan dieksekusi karena kondisi dalam pernyataan \"if\" tidak terpenuhi. Oleh karena itu, pesan \"x tidak lebih besar dari 5\" akan dicetak."
   ]
  },
  {
   "cell_type": "markdown",
   "id": "4df9b0e9-1054-4ba5-a89e-22b6bac2d2fe",
   "metadata": {},
   "source": [
    "3. if-elif-else Statement:"
   ]
  },
  {
   "cell_type": "code",
   "execution_count": 7,
   "id": "1e2cc124-5dde-46ce-82e7-bbd406009a54",
   "metadata": {},
   "outputs": [
    {
     "name": "stdout",
     "output_type": "stream",
     "text": [
      "x kurang dari 5\n"
     ]
    }
   ],
   "source": [
    "x = 3\n",
    "if x > 5:\n",
    "    print(\"x lebih besar dari 5\")\n",
    "elif x == 5:\n",
    "    print(\"x sama dengan 5\")\n",
    "else:\n",
    "    print(\"x kurang dari 5\")"
   ]
  },
  {
   "cell_type": "markdown",
   "id": "d60b9044-250d-4c80-8429-b25fe18112d8",
   "metadata": {},
   "source": [
    "Code diatas menggunakan pernyataan \"if-elif-else\" untuk mengevaluasi nilai \"x\" dan mencetak pesan berdasarkan kondisinya. \n",
    "\"x = 3\" merupakan code dimana variabel \"x\" diberi nilai \"3\". Kemudian \"if x > 5:\" pernyataan \"if\" digunakan untuk memeriksa apakah nilai \"x\" lebih besar dari \"5\", karena nilai \"x\" (3) tidak memenuhi kondisi ini, maka blok kode di bawahnya tidak akan dieksekusi. Kemudian \"elif x == 5:\" pernyataan \"elif\" (singkatan dari \"else if\") digunakan untuk memeriksa kondisi alternatif, dalam hal ini, diperiksa apakah nilai \"x\" sama dengan \"5\", karena nilai \"x\" (3) tidak sama dengan \"5\", maka blok kode di bawahnya juga tidak akan dieksekusi. Lalu \"else:\" pernyataan \"else\" menangkap semua kondisi yang tidak tertangkap oleh pernyataan \"if\" atau \"elif\" sebelumnya. Oleh karena itu, blok kode dalam \"else\" akan dieksekusi. Dan \"print(\"x kurang dari 5\")\" pernyataan \"print\" di dalam blok \"else\" akan dieksekusi karena nilai \"x\" tidak memenuhi kondisi dalam pernyataan \"if\" atau \"elif\". Oleh karena itu, pesan \"x kurang dari 5\" akan dicetak."
   ]
  }
 ],
 "metadata": {
  "kernelspec": {
   "display_name": "Python 3 (ipykernel)",
   "language": "python",
   "name": "python3"
  },
  "language_info": {
   "codemirror_mode": {
    "name": "ipython",
    "version": 3
   },
   "file_extension": ".py",
   "mimetype": "text/x-python",
   "name": "python",
   "nbconvert_exporter": "python",
   "pygments_lexer": "ipython3",
   "version": "3.12.2"
  }
 },
 "nbformat": 4,
 "nbformat_minor": 5
}
