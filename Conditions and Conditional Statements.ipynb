{
 "cells": [
  {
   "cell_type": "markdown",
   "id": "706e2b11-72d8-4d41-9e81-a7297c24f53c",
   "metadata": {},
   "source": [
    "Conditions and Conditional Statements\n",
    "\n",
    "In Python, \"condition\" refers to an expression or statement that returns a truth value (True or False), while \"conditional statements\" refer to flow control structures that allow the execution of certain blocks of code based on the evaluation results of conditions."
   ]
  },
  {
   "cell_type": "markdown",
   "id": "5a4821b0-a4f1-4c6f-b930-26aa2b82e64e",
   "metadata": {},
   "source": [
    "Conditions\n",
    "1. Simple Comparison :"
   ]
  },
  {
   "cell_type": "code",
   "execution_count": null,
   "id": "c717cdb4-2a4a-42b0-8355-71d3844a6603",
   "metadata": {},
   "outputs": [],
   "source": [
    "x = 10\n",
    "condition = x > 5\n",
    "print(condition)  # Output: True"
   ]
  },
  {
   "cell_type": "markdown",
   "id": "faa93cd0-5680-4b01-a313-b7794595cb04",
   "metadata": {},
   "source": [
    "2. Logical Operations :"
   ]
  },
  {
   "cell_type": "code",
   "execution_count": null,
   "id": "78e42907-6961-4720-b3ef-4b53ffe25c80",
   "metadata": {},
   "outputs": [],
   "source": [
    "y = 7\n",
    "condition = y < 5 or y == 7\n",
    "print(condition)  # Output: True"
   ]
  },
  {
   "cell_type": "markdown",
   "id": "bfa4953a-1d2c-451c-aae2-727572533fbb",
   "metadata": {},
   "source": [
    "Conditional Statements\n",
    "1. if Statement :"
   ]
  },
  {
   "cell_type": "code",
   "execution_count": null,
   "id": "5457c64b-5148-450f-99c8-22f02c867700",
   "metadata": {},
   "outputs": [],
   "source": [
    "x = 10\n",
    "if x > 5:\n",
    "    print(\"x lebih besar dari 5\")"
   ]
  },
  {
   "cell_type": "markdown",
   "id": "502f9cdc-4311-4484-8709-e0961321fb00",
   "metadata": {},
   "source": [
    "2. if-else Statement :"
   ]
  },
  {
   "cell_type": "code",
   "execution_count": null,
   "id": "319cfcd4-3716-43a5-b10e-7d2ccaad28de",
   "metadata": {},
   "outputs": [],
   "source": [
    "x = 3\n",
    "if x > 5:\n",
    "    print(\"x lebih besar dari 5\")\n",
    "else:\n",
    "    print(\"x tidak lebih besar dari 5\")"
   ]
  },
  {
   "cell_type": "markdown",
   "id": "4df9b0e9-1054-4ba5-a89e-22b6bac2d2fe",
   "metadata": {},
   "source": [
    "3. if-elif-else Statement:"
   ]
  },
  {
   "cell_type": "code",
   "execution_count": null,
   "id": "1e2cc124-5dde-46ce-82e7-bbd406009a54",
   "metadata": {},
   "outputs": [],
   "source": [
    "x = 3\n",
    "if x > 5:\n",
    "    print(\"x lebih besar dari 5\")\n",
    "elif x == 5:\n",
    "    print(\"x sama dengan 5\")\n",
    "else:\n",
    "    print(\"x kurang dari 5\")"
   ]
  }
 ],
 "metadata": {
  "kernelspec": {
   "display_name": "Python 3 (ipykernel)",
   "language": "python",
   "name": "python3"
  },
  "language_info": {
   "codemirror_mode": {
    "name": "ipython",
    "version": 3
   },
   "file_extension": ".py",
   "mimetype": "text/x-python",
   "name": "python",
   "nbconvert_exporter": "python",
   "pygments_lexer": "ipython3",
   "version": "3.12.2"
  }
 },
 "nbformat": 4,
 "nbformat_minor": 5
}
