{
 "cells": [
  {
   "cell_type": "markdown",
   "metadata": {},
   "source": [
    "# Data Type"
   ]
  },
  {
   "cell_type": "markdown",
   "metadata": {},
   "source": [
    "Explore integers, floats, booleans, and strings."
   ]
  },
  {
   "cell_type": "markdown",
   "metadata": {},
   "source": [
    "## Introduction"
   ]
  },
  {
   "cell_type": "markdown",
   "metadata": {},
   "source": [
    "Dalam pemrograman, tipe data merupakan konsep yang penting. Variabel dapat menyimpan data dengan tipe berbeda, dan tipe berbeda dapat melakukan hal berbeda. Python memiliki tipe data bawaan berikut secara default, yaitu:\n",
    "1. Text Type        :\tstr\n",
    "2. Numeric Types    :\tint, float, complex\n",
    "3. Boolean Type     :\tbool\n",
    "4. Sequence Types   :\tlist, tuple, range\n",
    "5. Mapping Type     :\tdict\n",
    "6. Set Types        :\tset, frozenset\n",
    "7. Binary Types     :\tbytes, bytearray, memoryview\n",
    "8. None Type        :\tNoneType"
   ]
  },
  {
   "cell_type": "markdown",
   "metadata": {},
   "source": [
    "## Text Type"
   ]
  },
  {
   "cell_type": "markdown",
   "metadata": {},
   "source": [
    "### String"
   ]
  },
  {
   "cell_type": "markdown",
   "metadata": {},
   "source": [
    "Tipe data string adalah kumpulan karakter (seperti huruf alfabet, tanda baca, angka numerik, atau simbol) yang terdapat dalam tanda kutip.  String dalam python diapit oleh tanda kutip tunggal atau tanda kutip ganda seperti 'halo' sama dengan \"halo\". String biasanya digunakan untuk mewakili teks. Kita dapat menampilkan string menggunakan fungsi print(). "
   ]
  },
  {
   "cell_type": "code",
   "execution_count": 2,
   "metadata": {},
   "outputs": [
    {
     "name": "stdout",
     "output_type": "stream",
     "text": [
      "Hello, Python!\n",
      "<class 'str'>\n"
     ]
    }
   ],
   "source": [
    "w = \"Hello, Python!\"\n",
    "print(w)\n",
    "print(type(w))"
   ]
  },
  {
   "cell_type": "markdown",
   "metadata": {},
   "source": [
    "w adalah variabel yang menyimpan string \"Hello, Python!\". Kode kemudian mencetak nilai dari variabel w. Kemudian, tipe data dari variabel w dicetak menggunakan fungsi type()."
   ]
  },
  {
   "cell_type": "code",
   "execution_count": 3,
   "metadata": {},
   "outputs": [
    {
     "name": "stdout",
     "output_type": "stream",
     "text": [
      "14\n"
     ]
    }
   ],
   "source": [
    "print(len(w))"
   ]
  },
  {
   "cell_type": "markdown",
   "metadata": {},
   "source": [
    "Kita juga dapat menampilkan panjang string dengan fungsi len(). \"Hello, Python!\" memiliki panjang 14, karena memiliki 14 karakter, termasuk spasi, koma, dan tanda seru. Tanda kutip tidak disertakan saat menghitung panjangnya."
   ]
  },
  {
   "cell_type": "code",
   "execution_count": 4,
   "metadata": {},
   "outputs": [
    {
     "name": "stdout",
     "output_type": "stream",
     "text": [
      "<class 'str'>\n",
      "0\n"
     ]
    }
   ],
   "source": [
    "shortest_string = \"\"\n",
    "print(type(shortest_string))\n",
    "print(len(shortest_string))"
   ]
  },
  {
   "cell_type": "markdown",
   "metadata": {},
   "source": [
    "Panjang string juga dapat berisi 0 dengan cara diapit oleh tanda petik"
   ]
  },
  {
   "cell_type": "code",
   "execution_count": 5,
   "metadata": {},
   "outputs": [
    {
     "name": "stdout",
     "output_type": "stream",
     "text": [
      "1.12321\n",
      "<class 'str'>\n"
     ]
    }
   ],
   "source": [
    "my_number = \"1.12321\"\n",
    "print(my_number)\n",
    "print(type(my_number))"
   ]
  },
  {
   "cell_type": "markdown",
   "metadata": {},
   "source": [
    "Walaupun variabel my_number berisi angka desimal (float), namun variabel tersebut bertipe data string karena diapit oleh tanda petik "
   ]
  },
  {
   "cell_type": "code",
   "execution_count": 6,
   "metadata": {},
   "outputs": [
    {
     "name": "stdout",
     "output_type": "stream",
     "text": [
      "1.12321\n",
      "<class 'float'>\n"
     ]
    }
   ],
   "source": [
    "also_my_number = float(my_number)\n",
    "print(also_my_number)\n",
    "print(type(also_my_number))"
   ]
  },
  {
   "cell_type": "markdown",
   "metadata": {},
   "source": [
    "Untuk mengubah tipe data variabel my_number menjadi float, dapat menggunakan fungsi float(). Namun kita tidak dapat mengubah \"Hello world!\" menjadi float karena bukan berupa angka"
   ]
  },
  {
   "cell_type": "code",
   "execution_count": 7,
   "metadata": {},
   "outputs": [
    {
     "name": "stdout",
     "output_type": "stream",
     "text": [
      "abcdef\n",
      "<class 'str'>\n"
     ]
    }
   ],
   "source": [
    "new_string = \"abc\" + \"def\"\n",
    "print(new_string)\n",
    "print(type(new_string))"
   ]
  },
  {
   "cell_type": "markdown",
   "metadata": {},
   "source": [
    "Kita dapat menjumlahkan string menggunakan tanda (+) seperti pada int dan float. Pada string diperoleh output berupa gabungan dari kedua string yang dijumlahkan "
   ]
  },
  {
   "cell_type": "code",
   "execution_count": 8,
   "metadata": {},
   "outputs": [
    {
     "name": "stdout",
     "output_type": "stream",
     "text": [
      "abcabcabc\n",
      "<class 'str'>\n"
     ]
    }
   ],
   "source": [
    "newest_string = \"abc\" * 3\n",
    "print(newest_string)\n",
    "print(type(newest_string))"
   ]
  },
  {
   "cell_type": "markdown",
   "metadata": {},
   "source": [
    "Kita tidak mungkin melakukan pengurangan atau pembagian dengan dua string. Kita juga tidak bisa mengalikan dua string, namun bisa mengalikan string dengan bilangan bulat. Hal ini menghasilkan string yang digabungkan dengan dirinya sendiri beberapa kali. Namun string tidak bisa dikalikan dengan bilangan desimal"
   ]
  },
  {
   "cell_type": "code",
   "execution_count": 9,
   "metadata": {},
   "outputs": [
    {
     "ename": "TypeError",
     "evalue": "can't multiply sequence by non-int of type 'float'",
     "output_type": "error",
     "traceback": [
      "\u001b[1;31m---------------------------------------------------------------------------\u001b[0m",
      "\u001b[1;31mTypeError\u001b[0m                                 Traceback (most recent call last)",
      "Cell \u001b[1;32mIn[9], line 1\u001b[0m\n\u001b[1;32m----> 1\u001b[0m will_not_work \u001b[38;5;241m=\u001b[39m \u001b[38;5;124;43m\"\u001b[39;49m\u001b[38;5;124;43mabc\u001b[39;49m\u001b[38;5;124;43m\"\u001b[39;49m\u001b[43m \u001b[49m\u001b[38;5;241;43m*\u001b[39;49m\u001b[43m \u001b[49m\u001b[38;5;241;43m3.\u001b[39;49m\n",
      "\u001b[1;31mTypeError\u001b[0m: can't multiply sequence by non-int of type 'float'"
     ]
    }
   ],
   "source": [
    "will_not_work = \"abc\" * 3."
   ]
  },
  {
   "cell_type": "markdown",
   "metadata": {},
   "source": [
    "## Numeric Type"
   ]
  },
  {
   "cell_type": "markdown",
   "metadata": {},
   "source": [
    "### 1. Integer"
   ]
  },
  {
   "cell_type": "markdown",
   "metadata": {},
   "source": [
    "Bilangan bulat adalah bilangan yang tidak mempunyai bagian pecahan dan dapat bernilai positif (1, 2, 3, ...), negatif (-1, -2, -3, ...), atau nol (0)."
   ]
  },
  {
   "cell_type": "code",
   "execution_count": 1,
   "metadata": {},
   "outputs": [
    {
     "name": "stdout",
     "output_type": "stream",
     "text": [
      "14\n",
      "<class 'int'>\n"
     ]
    }
   ],
   "source": [
    "x = 14\n",
    "print(x)\n",
    "print(type(x))"
   ]
  },
  {
   "cell_type": "markdown",
   "metadata": {},
   "source": [
    "Nilai dari variabel x adalah 14. Kemudian, nilai variabel x dicetak menggunakan fungsi print(). Tipe data dari variabel x dicetak menggunakan fungsi type(), yang mengembalikan jenis objek dari nilai yang diberikan. Dalam hal ini, itu akan mengembalikan <class 'int'>, yang berarti bahwa x adalah sebuah bilangan bulat (integer)."
   ]
  },
  {
   "cell_type": "markdown",
   "metadata": {},
   "source": [
    "### 2. Float "
   ]
  },
  {
   "cell_type": "markdown",
   "metadata": {},
   "source": [
    "Float, atau \"bilangan floating point\" adalah bilangan, positif atau negatif, yang mengandung satu atau lebih desimal."
   ]
  },
  {
   "cell_type": "code",
   "execution_count": 2,
   "metadata": {},
   "outputs": [
    {
     "name": "stdout",
     "output_type": "stream",
     "text": [
      "3.141592653589793\n",
      "<class 'float'>\n"
     ]
    }
   ],
   "source": [
    "nearly_pi = 3.141592653589793238462643383279502884197169399375105820974944\n",
    "print(nearly_pi)\n",
    "print(type(nearly_pi))"
   ]
  },
  {
   "cell_type": "markdown",
   "metadata": {},
   "source": [
    "nearly_pi adalah variabel yang menyimpan nilai yang sangat mendekati nilai dari pi (π). Nilai nearly_pi dicetak menggunakan fungsi print(). Fungsi type() digunakan untuk mencetak tipe data dari variabel nearly_pi."
   ]
  },
  {
   "cell_type": "code",
   "execution_count": 3,
   "metadata": {},
   "outputs": [
    {
     "name": "stdout",
     "output_type": "stream",
     "text": [
      "3.142857142857143\n",
      "<class 'float'>\n"
     ]
    }
   ],
   "source": [
    "almost_pi = 22/7\n",
    "print(almost_pi)\n",
    "print(type(almost_pi))"
   ]
  },
  {
   "cell_type": "markdown",
   "metadata": {},
   "source": [
    "Float juga bisa didefinikan dari hasil pembagian bilangan bulat. almost_pi adalah variabel yang menyimpan hasil pembagian 22 dengan 7, yang mendekati nilai dari pi. Nilai dari variabel almost_pi dicetak menggunakan fungsi print(). Fungsi type() digunakan untuk mencetak tipe data dari variabel almost_pi."
   ]
  },
  {
   "cell_type": "code",
   "execution_count": 4,
   "metadata": {},
   "outputs": [
    {
     "name": "stdout",
     "output_type": "stream",
     "text": [
      "3.14286\n",
      "<class 'float'>\n"
     ]
    }
   ],
   "source": [
    "# Round to 5 decimal places\n",
    "rounded_pi = round(almost_pi, 5)\n",
    "print(rounded_pi)\n",
    "print(type(rounded_pi))"
   ]
  },
  {
   "cell_type": "markdown",
   "metadata": {},
   "source": [
    "Kita dapat memberi batasan jumlah digit di belakang koma menggunakan fungsi round(). rounded_pi adalah variabel yang menyimpan hasil pemanggilan fungsi round() pada variabel almost_pi, dengan jumlah angka desimal yang diinginkan, yaitu 5. Hasil dari pemanggilan fungsi round() pada almost_pi dicetak menggunakan fungsi print().\n",
    "Fungsi type() digunakan untuk mencetak tipe data dari variabel rounded_pi"
   ]
  },
  {
   "cell_type": "code",
   "execution_count": 6,
   "metadata": {},
   "outputs": [
    {
     "name": "stdout",
     "output_type": "stream",
     "text": [
      "1.0\n",
      "<class 'float'>\n"
     ]
    }
   ],
   "source": [
    "y_float = 1.\n",
    "print(y_float)\n",
    "print(type(y_float))"
   ]
  },
  {
   "cell_type": "markdown",
   "metadata": {},
   "source": [
    "Walaupun tidak angka di belakang koma, jika menyertakan koma dalam angka maka angka tersebut akan terbaca sebagai float. y_float adalah variabel yang menyimpan nilai float, yaitu 1.0. Walaupun nilai yang diberikan hanya 1 (tanpa desimal), Python secara otomatis menganggapnya sebagai bilangan pecahan (float).Nilai dari variabel y_float dicetak menggunakan fungsi print(). Fungsi type() digunakan untuk mencetak tipe data dari variabel y_float."
   ]
  },
  {
   "cell_type": "markdown",
   "metadata": {},
   "source": [
    "### 3. Complex"
   ]
  },
  {
   "cell_type": "markdown",
   "metadata": {},
   "source": [
    "Bilangan kompleks ditulis dengan huruf \"j\" sebagai bagian imajinernya"
   ]
  },
  {
   "cell_type": "code",
   "execution_count": 7,
   "metadata": {},
   "outputs": [
    {
     "name": "stdout",
     "output_type": "stream",
     "text": [
      "<class 'complex'>\n",
      "<class 'complex'>\n",
      "<class 'complex'>\n"
     ]
    }
   ],
   "source": [
    "x = 3+5j\n",
    "y = 5j\n",
    "z = -5j\n",
    "\n",
    "print(type(x))\n",
    "print(type(y))\n",
    "print(type(z))"
   ]
  },
  {
   "cell_type": "markdown",
   "metadata": {},
   "source": [
    "Kode tersebut mendefinisikan tiga variabel kompleks: x, y, dan z. Variabel-variabel ini mewakili bilangan kompleks dengan bagian imajiner yang berbeda.\n",
    "1. Variabel x menyimpan bilangan kompleks 3 + 5j, yang berarti memiliki bagian riil 3 dan bagian imajiner 5.\n",
    "2. Variabel y menyimpan bilangan kompleks 0 + 5j, yang berarti memiliki bagian riil 0 dan bagian imajiner 5.\n",
    "3. Variabel z menyimpan bilangan kompleks 0 - 5j, yang berarti memiliki bagian riil 0 dan bagian imajiner -5.\n",
    "\n",
    "Setelah itu, tipe data dari setiap variabel dicetak menggunakan fungsi type()."
   ]
  },
  {
   "cell_type": "markdown",
   "metadata": {},
   "source": [
    "## Boolean Type"
   ]
  },
  {
   "cell_type": "markdown",
   "metadata": {},
   "source": [
    "Dalam pemrograman, kita sering kali perlu mengetahui apakah suatu ekspresi Benar atau Salah. Kita dapat mengevaluasi ekspresi apa pun dengan Python, dan mendapatkan salah satu dari dua jawaban, Benar atau Salah. Saat membandingkan dua nilai, ekspresi dievaluasi dan Python mengembalikan jawaban Boolean"
   ]
  },
  {
   "cell_type": "code",
   "execution_count": 10,
   "metadata": {},
   "outputs": [
    {
     "name": "stdout",
     "output_type": "stream",
     "text": [
      "True\n",
      "<class 'bool'>\n"
     ]
    }
   ],
   "source": [
    "z_one = True\n",
    "print(z_one)\n",
    "print(type(z_one))"
   ]
  },
  {
   "cell_type": "markdown",
   "metadata": {},
   "source": [
    "z_one adalah variabel yang menyimpan nilai boolean True, yang menunjukkan kebenaran dari suatu kondisi. Nilai dari variabel z_one dicetak menggunakan fungsi print(). Fungsi type() digunakan untuk mencetak tipe data dari variabel z_one."
   ]
  },
  {
   "cell_type": "code",
   "execution_count": 11,
   "metadata": {},
   "outputs": [
    {
     "name": "stdout",
     "output_type": "stream",
     "text": [
      "False\n",
      "<class 'bool'>\n"
     ]
    }
   ],
   "source": [
    "z_four = (5 < 3)\n",
    "print(z_four)\n",
    "print(type(z_four))"
   ]
  },
  {
   "cell_type": "markdown",
   "metadata": {},
   "source": [
    "(5 < 3) adalah sebuah ekspresi logika yang mengevaluasi apakah 5 kurang dari 3. Karena 5 tidak kurang dari 3, hasil evaluasinya adalah False. Variabel z_four menyimpan nilai boolean False, karena ekspresi logika (5 < 3) menghasilkan False. Nilai dari variabel z_four dicetak menggunakan fungsi print(). Fungsi type() digunakan untuk mencetak tipe data dari variabel z_four."
   ]
  },
  {
   "cell_type": "code",
   "execution_count": 12,
   "metadata": {},
   "outputs": [
    {
     "name": "stdout",
     "output_type": "stream",
     "text": [
      "True\n",
      "<class 'bool'>\n"
     ]
    }
   ],
   "source": [
    "z_five = not z_four\n",
    "print(z_five)\n",
    "print(type(z_five))"
   ]
  },
  {
   "cell_type": "markdown",
   "metadata": {},
   "source": [
    "not z_four adalah operasi logika yang mengubah nilai dari variabel boolean z_four. Jika z_four adalah True, hasilnya akan menjadi False, dan sebaliknya. Variabel z_five menyimpan nilai boolean yang merupakan kebalikan dari nilai z_four. Nilai dari variabel z_five dicetak menggunakan fungsi print(). Fungsi type() digunakan untuk mencetak tipe data dari variabel z_five."
   ]
  }
 ],
 "metadata": {
  "kernelspec": {
   "display_name": "Python 3",
   "language": "python",
   "name": "python3"
  },
  "language_info": {
   "codemirror_mode": {
    "name": "ipython",
    "version": 3
   },
   "file_extension": ".py",
   "mimetype": "text/x-python",
   "name": "python",
   "nbconvert_exporter": "python",
   "pygments_lexer": "ipython3",
   "version": "3.10.6"
  }
 },
 "nbformat": 4,
 "nbformat_minor": 2
}
